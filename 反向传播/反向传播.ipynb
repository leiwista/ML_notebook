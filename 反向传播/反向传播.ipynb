{
 "cells": [
  {
   "cell_type": "markdown",
   "metadata": {},
   "source": [
    "## 简单示例推导神经网络的反向传播"
   ]
  },
  {
   "cell_type": "code",
   "execution_count": 85,
   "metadata": {},
   "outputs": [
    {
     "data": {
      "text/html": [
       "<img src=\"神经网络_反向传播.png\" width=\"400\" height=\"400\"/>"
      ],
      "text/plain": [
       "<IPython.core.display.Image object>"
      ]
     },
     "execution_count": 85,
     "metadata": {},
     "output_type": "execute_result"
    }
   ],
   "source": [
    "from IPython.display import Image\n",
    "from IPython.core.display import HTML \n",
    "Image(url= u\"神经网络_反向传播.png\", width=400, height=400)\n"
   ]
  },
  {
   "cell_type": "markdown",
   "metadata": {},
   "source": [
    "- 输入: [0.05, 0.1]\n",
    "- 输出: [0.01, 0.99]\n",
    "- 初始权重: [0.15, 0.2, 0.25, 0.3], [0.4, 0.45, 0.5, 0.55]\n",
    "- bias: [0.35, 0.6]\n",
    "- 神经元都使用sigmoid函数\n",
    "$$f(x)=\\frac{1}{1+e^{-x}}$$\n",
    "***\n",
    "**目标**: 训练各个权重，使得输出值尽量接近[0.01, 0.99]"
   ]
  },
  {
   "cell_type": "markdown",
   "metadata": {},
   "source": [
    "### 计算输出的过程\n",
    "\n",
    "***\n",
    "#### 计算隐藏层的输入\n",
    "$$h1\\_input = i1 * w1 + i2 * w2 + b1 * 1$$"
   ]
  },
  {
   "cell_type": "code",
   "execution_count": 86,
   "metadata": {},
   "outputs": [
    {
     "data": {
      "text/plain": [
       "0.3775"
      ]
     },
     "execution_count": 86,
     "metadata": {},
     "output_type": "execute_result"
    }
   ],
   "source": [
    "w1, w2, w3, w4, w5, w6, w7, w8 = [0.15, 0.2, 0.25, 0.3, 0.4, 0.45, 0.5, 0.55]\n",
    "b1 = 0.35\n",
    "b2 = 0.6\n",
    "target_1 = 0.01\n",
    "target_2 = 0.99\n",
    "\n",
    "h1_input = 0.05 * w1 + 0.1 * w2 + b1\n",
    "h1_input"
   ]
  },
  {
   "cell_type": "markdown",
   "metadata": {},
   "source": [
    "$$h2\\_input = i1 * w3 + i2 * w4 + b1 * 1$$"
   ]
  },
  {
   "cell_type": "code",
   "execution_count": 87,
   "metadata": {},
   "outputs": [
    {
     "data": {
      "text/plain": [
       "0.39249999999999996"
      ]
     },
     "execution_count": 87,
     "metadata": {},
     "output_type": "execute_result"
    }
   ],
   "source": [
    "h2_input = 0.05 * w3 + 0.1 * w4 + b1\n",
    "h2_input"
   ]
  },
  {
   "cell_type": "markdown",
   "metadata": {},
   "source": [
    "***\n",
    "#### 计算隐藏层输出\n",
    "$$h1\\_output = \\frac{1}{1+e^{-h1\\_input}}$$"
   ]
  },
  {
   "cell_type": "code",
   "execution_count": 88,
   "metadata": {},
   "outputs": [
    {
     "data": {
      "text/plain": [
       "0.59326999210718723"
      ]
     },
     "execution_count": 88,
     "metadata": {},
     "output_type": "execute_result"
    }
   ],
   "source": [
    "from scipy.special import expit\n",
    "h1_output = expit(h1_input)\n",
    "h1_output"
   ]
  },
  {
   "cell_type": "markdown",
   "metadata": {},
   "source": [
    "$$h2\\_output = \\frac{1}{1+e^{-h2\\_input}}$$"
   ]
  },
  {
   "cell_type": "code",
   "execution_count": 89,
   "metadata": {},
   "outputs": [
    {
     "data": {
      "text/plain": [
       "0.59688437825976703"
      ]
     },
     "execution_count": 89,
     "metadata": {},
     "output_type": "execute_result"
    }
   ],
   "source": [
    "h2_output = expit(h2_input)\n",
    "h2_output"
   ]
  },
  {
   "cell_type": "markdown",
   "metadata": {},
   "source": [
    "***\n",
    "#### 计算输出层的输入\n",
    "$$o1\\_input = h1\\_output * w5 + h2\\_output * w6 + b2 * 1$$"
   ]
  },
  {
   "cell_type": "code",
   "execution_count": 90,
   "metadata": {},
   "outputs": [
    {
     "data": {
      "text/plain": [
       "1.10590596705977"
      ]
     },
     "execution_count": 90,
     "metadata": {},
     "output_type": "execute_result"
    }
   ],
   "source": [
    "o1_input = h1_output * w5 + h2_output * w6 + b2\n",
    "o1_input"
   ]
  },
  {
   "cell_type": "markdown",
   "metadata": {},
   "source": [
    "$$o2\\_input = h1\\_output * w7 +  h2\\_output * w8 + b2$$"
   ]
  },
  {
   "cell_type": "code",
   "execution_count": 91,
   "metadata": {},
   "outputs": [
    {
     "data": {
      "text/plain": [
       "1.2249214040964653"
      ]
     },
     "execution_count": 91,
     "metadata": {},
     "output_type": "execute_result"
    }
   ],
   "source": [
    "o2_input = h1_output * w7 + h2_output * w8 + b2\n",
    "o2_input"
   ]
  },
  {
   "cell_type": "markdown",
   "metadata": {},
   "source": [
    "***\n",
    "#### 计算输出层的输出\n",
    "$$o1\\_output = \\frac{1}{1+e^{-o1\\_input}}$$\n",
    "$$o2\\_output = \\frac{1}{1+e^{-o2\\_input}}$$"
   ]
  },
  {
   "cell_type": "code",
   "execution_count": 92,
   "metadata": {},
   "outputs": [
    {
     "name": "stdout",
     "output_type": "stream",
     "text": [
      "o1 output is: 0.751365\n",
      "o2 output is: 0.772928\n"
     ]
    }
   ],
   "source": [
    "o1_output = expit(o1_input)\n",
    "print \"o1 output is: %f\" % o1_output\n",
    "o2_output = expit(o2_input)\n",
    "print \"o2 output is: %f\" % o2_output"
   ]
  },
  {
   "cell_type": "markdown",
   "metadata": {},
   "source": [
    "### 反向传播的过程\n",
    "\n",
    "#### 计算总误差\n",
    "\n",
    "$$E_{total} = \\sum\\limits_{i=1}^{2}\\frac{1}{2}(o_i\\_output - target_i)^2$$"
   ]
  },
  {
   "cell_type": "code",
   "execution_count": 93,
   "metadata": {},
   "outputs": [
    {
     "data": {
      "text/plain": [
       "0.29837110876000272"
      ]
     },
     "execution_count": 93,
     "metadata": {},
     "output_type": "execute_result"
    }
   ],
   "source": [
    "E_total = ((o1_output - target_1)**2 + (o2_output - target_2)**2) / 2\n",
    "E_total"
   ]
  },
  {
   "cell_type": "markdown",
   "metadata": {},
   "source": [
    "#### 反馈\n",
    "以w5这条边为例，为了减少总误差，**其变化应该沿着总误差对w5的偏导数方向进行**\n",
    "先求其偏导\n",
    "\\begin{equation}\n",
    "\\begin{split}\n",
    "\\frac{\\partial E_{total}}{\\partial w5} &= \\frac{\\partial E_{total}}{\\partial o1\\_output} \\frac{\\partial o1\\_output}{\\partial o1\\_input} \\frac{\\partial o1\\_input}{\\partial w5} \\\\\n",
    "&= (o1\\_output - target_1) (o1\\_output)(1 - o1\\_output)h1\\_output\\\\\n",
    "\\end{split}\n",
    "\\end{equation}\n",
    "注意其中sigmoid函数\n",
    "$y = \\frac{1}{1+e^{-x}}$的导数是$y(1-y)$"
   ]
  },
  {
   "cell_type": "code",
   "execution_count": 94,
   "metadata": {},
   "outputs": [
    {
     "data": {
      "text/plain": [
       "0.08216704056423077"
      ]
     },
     "execution_count": 94,
     "metadata": {},
     "output_type": "execute_result"
    }
   ],
   "source": [
    "w5_partial = o1_output * h1_output * (o1_output - target_1) * (1 - o1_output)\n",
    "w5_partial"
   ]
  },
  {
   "cell_type": "markdown",
   "metadata": {},
   "source": [
    "我们设置步长系数为0.5，得到新的w5\n",
    "$$w5^\\prime = w5 - \\eta\\frac{\\partial E_{total}}{\\partial w5}$$"
   ]
  },
  {
   "cell_type": "code",
   "execution_count": 95,
   "metadata": {},
   "outputs": [
    {
     "data": {
      "text/plain": [
       "0.35891647971788465"
      ]
     },
     "execution_count": 95,
     "metadata": {},
     "output_type": "execute_result"
    }
   ],
   "source": [
    "w5_n = w5 - 0.5 * w5_partial\n",
    "w5_n"
   ]
  },
  {
   "cell_type": "markdown",
   "metadata": {},
   "source": [
    "同理，需要求出新的w6, w7, w8\n",
    "$$\\frac{\\partial E_{total}}{\\partial w6} = (o1\\_output - target_1) (o1\\_output)(1 - o1\\_output)h2\\_output$$\n",
    "$$\\frac{\\partial E_{total}}{\\partial w7} = (o2\\_output - target_2) (o2\\_output)(1 - o2\\_output)h1\\_output$$\n",
    "$$\\frac{\\partial E_{total}}{\\partial w8} = (o2\\_output - target_2) (o2\\_output)(1 - o2\\_output)h2\\_output$$"
   ]
  },
  {
   "cell_type": "code",
   "execution_count": 96,
   "metadata": {},
   "outputs": [
    {
     "name": "stdout",
     "output_type": "stream",
     "text": [
      "w6 new = 0.408666, w7 new = 0.511301, w8 new = 0.561370\n"
     ]
    }
   ],
   "source": [
    "w6_partial = (o1_output - target_1)* o1_output * (1 - o1_output) * h2_output\n",
    "w6_n = w6 - 0.5 * w6_partial\n",
    "w7_partial = (o2_output - target_2)* o2_output * (1 - o2_output) * h1_output\n",
    "w7_n = w7 - 0.5 * w7_partial\n",
    "w8_partial = (o2_output - target_2)* o2_output * (1 - o2_output) * h2_output\n",
    "w8_n = w8 - 0.5 * w8_partial\n",
    "\n",
    "print \"w6 new = %f, w7 new = %f, w8 new = %f\" % (w6_n, w7_n, w8_n)"
   ]
  },
  {
   "cell_type": "markdown",
   "metadata": {},
   "source": [
    "同时需要更新隐藏层的权值w1，w2，w3，w4，才能算完成了一次迭代过程，隐藏层的反馈迭代稍微复杂点，如下\n",
    "***\n",
    "#### 隐藏层权值的更新\n",
    "以w1更新为例，首先求总误差对w1的偏导\n",
    "\\begin{equation}\n",
    "\\begin{split}\n",
    "\\frac{\\partial E_{total}}{\\partial w1} &= \\frac{\\partial E_{total}}{\\partial h1\\_output}\\frac{\\partial h1\\_output}{\\partial h1\\_input}\\frac{\\partial h1\\_input}{\\partial w1}\\\\\n",
    "&=  (\\frac{\\partial E_{total}}{\\partial o1\\_output}\\frac{\\partial o1\\_output}{\\partial o1\\_input}\\frac{\\partial o1\\_input}{\\partial h1\\_output} + \\frac{\\partial E_{total}}{\\partial o2\\_output}\\frac{\\partial o2\\_output}{\\partial o2\\_input}\\frac{\\partial o2\\_input}{\\partial h1\\_output})\\frac{\\partial h1\\_output}{\\partial h1\\_input}\\frac{\\partial h1\\_input}{\\partial w1}\\\\\n",
    "&= ((o1\\_output - target_1) (o1\\_output)(1 - o1\\_output)w5 + (o2\\_output - target_2) (o2\\_output)(1 - o2\\_output)w7)h1\\_output(1-h1\\_output)i1\n",
    "\\end{split}\n",
    "\\end{equation}"
   ]
  },
  {
   "cell_type": "code",
   "execution_count": 98,
   "metadata": {},
   "outputs": [
    {
     "name": "stdout",
     "output_type": "stream",
     "text": [
      "w1 partial is 0.000439, and w1 new is: 0.149781\n"
     ]
    }
   ],
   "source": [
    "w1_partial =  (o1_output * (o1_output - target_1) * (1 - o1_output) * w5 + (o2_output - target_2)* o2_output * (1 - o2_output) * w7) * h1_output * (1 - h1_output) * 0.05\n",
    "w1_n = w1 - 0.5 * w1_partial\n",
    "print \"w1 partial is %f, and w1 new is: %f\" % (w1_partial, w1_n)\n"
   ]
  },
  {
   "cell_type": "markdown",
   "metadata": {},
   "source": [
    "同理，得到w2,w3,w4的新值，完成迭代。"
   ]
  },
  {
   "cell_type": "code",
   "execution_count": null,
   "metadata": {
    "collapsed": true
   },
   "outputs": [],
   "source": []
  }
 ],
 "metadata": {
  "kernelspec": {
   "display_name": "Python 2",
   "language": "python",
   "name": "python2"
  },
  "language_info": {
   "codemirror_mode": {
    "name": "ipython",
    "version": 2
   },
   "file_extension": ".py",
   "mimetype": "text/x-python",
   "name": "python",
   "nbconvert_exporter": "python",
   "pygments_lexer": "ipython2",
   "version": "2.7.11"
  }
 },
 "nbformat": 4,
 "nbformat_minor": 2
}
